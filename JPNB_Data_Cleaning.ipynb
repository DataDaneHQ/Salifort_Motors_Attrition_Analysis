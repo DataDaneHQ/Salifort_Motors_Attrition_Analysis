{
 "cells": [
  {
   "cell_type": "markdown",
   "id": "cf635183-2246-41da-9080-dad9c3d46f0c",
   "metadata": {},
   "source": [
    "<img src=\"..\\Salifort_Images\\Leonardo_Logo_2.jpg\" alt=\"Logo\" style=\"float:left; height:150px; margin-right:30px;\">\n",
    "\n",
    "# **Predicting Employee Attrition at Salifort Motors**\n",
    "## **Data Preparation**"
   ]
  },
  {
   "cell_type": "markdown",
   "id": "d56a5726-23c5-434a-83eb-7b3425e1178d",
   "metadata": {},
   "source": [
    "# **Introduction**\n",
    "\n",
    "This Jupyter Notebook serves as the foundational step in the employee turnover prediction project for Salifort Motors. The goal is to ensure that the dataset is well-structured, clean, and ready for analysis.\n",
    "\n",
    "**Objectives of This Notebook:**\n",
    "\n",
    "* **Data Cleaning & Preprocessing** – Handle missing values, remove duplicates, and standardize column formats. Perform minimal feature engineering that applies to all models.  \n",
    "* **Export Cleaned Dataset** – Save a pre-processed dataset that serves as the foundation for all models, ensuring flexibility for model-specific feature transformations.  \n",
    "\n",
    "By the end of this notebook, the dataset will be cleaned and prepared for modelling, providing a structured dataset while maintaining adaptability for model-specific transformations.\n",
    "\n",
    "<br>"
   ]
  },
  {
   "cell_type": "markdown",
   "id": "f28f6ff1-77fd-423d-8763-eb0e9fa73f6b",
   "metadata": {},
   "source": [
    "## **Business Scenario & Problem**\n",
    "\n",
    "Salifort Motors is experiencing high employee turnover, leading to increased recruitment costs, operational disruptions, and productivity loss. The HR department has collected survey data from employees and wants to understand why employees leave and how to improve retention.\n",
    "\n",
    "To address this, Salifort’s leadership has tasked me, their data analytics professional, with uncovering key drivers of turnover. My role is to analyze the survey dataset and develop a predictive model that forecasts which employees are most likely to leave.\n",
    "\n",
    "By accurately identifying risk factors (such as workload, department, tenure, or salary level), HR can implement targeted retention strategies to enhance employee satisfaction and reduce hiring and training costs.\n",
    "\n",
    "<br>"
   ]
  },
  {
   "cell_type": "markdown",
   "id": "5b9a29ae-dbfb-4109-8513-2fc8a31618d0",
   "metadata": {},
   "source": [
    "## **Data Dictionary**\n",
    "\n",
    "This [Dataset](https://www.kaggle.com/datasets/mfaisalqureshi/hr-analytics-and-job-prediction?select=HR_comma_sep.csv) Contains:\n",
    "* **14,999 rows** - each row is a different employee's self-reported information\n",
    "* **10 columns**\n",
    "* And the following variables\n",
    "\n",
    "Variable  |Description |\n",
    "-----|-----|\n",
    "`satisfaction_level`|Employee-reported job satisfaction level [0&ndash;1]|\n",
    "`last_evaluation`|Score of employee's last performance review [0&ndash;1]|\n",
    "`number_project`|Number of projects employee contributes to|\n",
    "`average_monthly_hours`|Average number of hours employee worked per month|\n",
    "`time_spend_company`|How long the employee has been with the company (years)\n",
    "`Work_accident`|Whether or not the employee experienced an accident while at work\n",
    "`left`|Whether or not the employee left the company\n",
    "`promotion_last_5years`|Whether or not the employee was promoted in the last 5 years\n",
    "`Department`|The employee's department\n",
    "`salary`|The employee's salary (U.S. dollars)"
   ]
  },
  {
   "cell_type": "markdown",
   "id": "96486efa-6e49-4a1c-8369-671d377e2da0",
   "metadata": {},
   "source": [
    "## **Contents**\n",
    "\n",
    "#### **Setup and Data Initionalization**\n",
    "1️⃣ Import Libraries and Packages  \n",
    "2️⃣ Import Dataset  \n",
    "\n",
    "#### **Data Validation, Cleaning, and Pre-Model Preparation**\n",
    "3️⃣ Data Validation  \n",
    "4️⃣ Data Cleaning  \n",
    "5️⃣ Feature Engineering  \n",
    "6️⃣ Export Cleaned and Encoded Datasets  "
   ]
  },
  {
   "cell_type": "markdown",
   "id": "afabc780-127f-46ed-a292-e88f8ae83f87",
   "metadata": {},
   "source": [
    "<br>\n",
    "\n",
    "# **Setup and Initionalization**\n",
    "## **1️⃣ Import Libraries and Packages**\n",
    "\n",
    "**Import** necessary libraries for data manipulation, visualization, and modelling."
   ]
  },
  {
   "cell_type": "code",
   "execution_count": 20,
   "id": "2bcb893d-eb56-4668-9d16-9acb7d6def45",
   "metadata": {},
   "outputs": [],
   "source": [
    "# Import packages for data manipulation and visualization\n",
    "import pandas as pd\n",
    "import numpy as np\n",
    "import matplotlib.pyplot as plt\n",
    "import seaborn as sns\n",
    "from sklearn.preprocessing import LabelEncoder"
   ]
  },
  {
   "cell_type": "markdown",
   "id": "be3f91a2-0400-4cf5-b38e-4464d25a9799",
   "metadata": {},
   "source": [
    "<br>\n",
    "\n",
    "## **2️⃣ Import Dataset**\n",
    "\n",
    "**Load** the dataset into a DataFrame for exploration and analysis."
   ]
  },
  {
   "cell_type": "code",
   "execution_count": 21,
   "id": "042d57d7-0fbe-4896-a8e8-72b891e0b138",
   "metadata": {},
   "outputs": [],
   "source": [
    "# Read in dataset\n",
    "data = pd.read_csv(r'C:\\Users\\danet\\Documents\\HR_capstone_dataset.csv')"
   ]
  },
  {
   "cell_type": "markdown",
   "id": "add0a262-242c-4d5b-9a8a-7b30df812e2e",
   "metadata": {},
   "source": [
    "<br>\n",
    "\n",
    "# **Data Validation, Cleaning, and Pre-Model Preparation**\n",
    "## **3️⃣ Data Validation**\n",
    "\n",
    "**Inspect** first five rows"
   ]
  },
  {
   "cell_type": "code",
   "execution_count": 22,
   "id": "497bff3d-f8b1-47f0-9002-b74e9f165157",
   "metadata": {},
   "outputs": [
    {
     "data": {
      "text/html": [
       "<div>\n",
       "<style scoped>\n",
       "    .dataframe tbody tr th:only-of-type {\n",
       "        vertical-align: middle;\n",
       "    }\n",
       "\n",
       "    .dataframe tbody tr th {\n",
       "        vertical-align: top;\n",
       "    }\n",
       "\n",
       "    .dataframe thead th {\n",
       "        text-align: right;\n",
       "    }\n",
       "</style>\n",
       "<table border=\"1\" class=\"dataframe\">\n",
       "  <thead>\n",
       "    <tr style=\"text-align: right;\">\n",
       "      <th></th>\n",
       "      <th>satisfaction_level</th>\n",
       "      <th>last_evaluation</th>\n",
       "      <th>number_project</th>\n",
       "      <th>average_montly_hours</th>\n",
       "      <th>time_spend_company</th>\n",
       "      <th>Work_accident</th>\n",
       "      <th>left</th>\n",
       "      <th>promotion_last_5years</th>\n",
       "      <th>Department</th>\n",
       "      <th>salary</th>\n",
       "    </tr>\n",
       "  </thead>\n",
       "  <tbody>\n",
       "    <tr>\n",
       "      <th>0</th>\n",
       "      <td>0.38</td>\n",
       "      <td>0.53</td>\n",
       "      <td>2</td>\n",
       "      <td>157</td>\n",
       "      <td>3</td>\n",
       "      <td>0</td>\n",
       "      <td>1</td>\n",
       "      <td>0</td>\n",
       "      <td>sales</td>\n",
       "      <td>low</td>\n",
       "    </tr>\n",
       "    <tr>\n",
       "      <th>1</th>\n",
       "      <td>0.80</td>\n",
       "      <td>0.86</td>\n",
       "      <td>5</td>\n",
       "      <td>262</td>\n",
       "      <td>6</td>\n",
       "      <td>0</td>\n",
       "      <td>1</td>\n",
       "      <td>0</td>\n",
       "      <td>sales</td>\n",
       "      <td>medium</td>\n",
       "    </tr>\n",
       "    <tr>\n",
       "      <th>2</th>\n",
       "      <td>0.11</td>\n",
       "      <td>0.88</td>\n",
       "      <td>7</td>\n",
       "      <td>272</td>\n",
       "      <td>4</td>\n",
       "      <td>0</td>\n",
       "      <td>1</td>\n",
       "      <td>0</td>\n",
       "      <td>sales</td>\n",
       "      <td>medium</td>\n",
       "    </tr>\n",
       "    <tr>\n",
       "      <th>3</th>\n",
       "      <td>0.72</td>\n",
       "      <td>0.87</td>\n",
       "      <td>5</td>\n",
       "      <td>223</td>\n",
       "      <td>5</td>\n",
       "      <td>0</td>\n",
       "      <td>1</td>\n",
       "      <td>0</td>\n",
       "      <td>sales</td>\n",
       "      <td>low</td>\n",
       "    </tr>\n",
       "    <tr>\n",
       "      <th>4</th>\n",
       "      <td>0.37</td>\n",
       "      <td>0.52</td>\n",
       "      <td>2</td>\n",
       "      <td>159</td>\n",
       "      <td>3</td>\n",
       "      <td>0</td>\n",
       "      <td>1</td>\n",
       "      <td>0</td>\n",
       "      <td>sales</td>\n",
       "      <td>low</td>\n",
       "    </tr>\n",
       "  </tbody>\n",
       "</table>\n",
       "</div>"
      ],
      "text/plain": [
       "   satisfaction_level  last_evaluation  number_project  average_montly_hours  \\\n",
       "0                0.38             0.53               2                   157   \n",
       "1                0.80             0.86               5                   262   \n",
       "2                0.11             0.88               7                   272   \n",
       "3                0.72             0.87               5                   223   \n",
       "4                0.37             0.52               2                   159   \n",
       "\n",
       "   time_spend_company  Work_accident  left  promotion_last_5years Department  \\\n",
       "0                   3              0     1                      0      sales   \n",
       "1                   6              0     1                      0      sales   \n",
       "2                   4              0     1                      0      sales   \n",
       "3                   5              0     1                      0      sales   \n",
       "4                   3              0     1                      0      sales   \n",
       "\n",
       "   salary  \n",
       "0     low  \n",
       "1  medium  \n",
       "2  medium  \n",
       "3     low  \n",
       "4     low  "
      ]
     },
     "execution_count": 22,
     "metadata": {},
     "output_type": "execute_result"
    }
   ],
   "source": [
    "data.head()"
   ]
  },
  {
   "cell_type": "markdown",
   "id": "a2122743-8004-4195-aeeb-cf933930c8ca",
   "metadata": {},
   "source": [
    "<br>\n",
    "\n",
    "**View** basic information about the data"
   ]
  },
  {
   "cell_type": "code",
   "execution_count": 23,
   "id": "bb8ea904-f1b5-4ae9-be8c-62e121873dd6",
   "metadata": {},
   "outputs": [
    {
     "name": "stdout",
     "output_type": "stream",
     "text": [
      "<class 'pandas.core.frame.DataFrame'>\n",
      "RangeIndex: 14999 entries, 0 to 14998\n",
      "Data columns (total 10 columns):\n",
      " #   Column                 Non-Null Count  Dtype  \n",
      "---  ------                 --------------  -----  \n",
      " 0   satisfaction_level     14999 non-null  float64\n",
      " 1   last_evaluation        14999 non-null  float64\n",
      " 2   number_project         14999 non-null  int64  \n",
      " 3   average_montly_hours   14999 non-null  int64  \n",
      " 4   time_spend_company     14999 non-null  int64  \n",
      " 5   Work_accident          14999 non-null  int64  \n",
      " 6   left                   14999 non-null  int64  \n",
      " 7   promotion_last_5years  14999 non-null  int64  \n",
      " 8   Department             14999 non-null  object \n",
      " 9   salary                 14999 non-null  object \n",
      "dtypes: float64(2), int64(6), object(2)\n",
      "memory usage: 1.1+ MB\n"
     ]
    }
   ],
   "source": [
    "data.info()"
   ]
  },
  {
   "cell_type": "markdown",
   "id": "d9ae7de2-aac7-44fe-9df7-5437cf086e13",
   "metadata": {},
   "source": [
    "***Note:*** Some column names contain inconsistent capitalization (e.g., *\"Work_accident\"*, *\"Department\"*). These will be standardized to snake_case for consistency.\n"
   ]
  },
  {
   "cell_type": "code",
   "execution_count": 24,
   "id": "96b3d2b7-5521-4d0d-b9f9-90aca7efd9c9",
   "metadata": {},
   "outputs": [
    {
     "data": {
      "text/plain": [
       "Index(['satisfaction_level', 'last_evaluation', 'number_project',\n",
       "       'average_monthly_hours', 'company_tenure', 'work_accident', 'left',\n",
       "       'promotion_last_5years', 'department', 'salary'],\n",
       "      dtype='object')"
      ]
     },
     "execution_count": 24,
     "metadata": {},
     "output_type": "execute_result"
    }
   ],
   "source": [
    "# convert column names to snakecase\n",
    "data.columns = data.columns.str.lower().str.replace(\" \", \"_\")\n",
    "data.rename(columns={'time_spend_company': 'company_tenure',\n",
    "                     'average_montly_hours': 'average_monthly_hours'}, inplace=True)\n",
    "data.columns"
   ]
  },
  {
   "cell_type": "markdown",
   "id": "fcf56b75-641f-4bc8-a43a-3700f5ff5175",
   "metadata": {},
   "source": [
    "<br>\n",
    "\n",
    "**Generate** descriptive statistics"
   ]
  },
  {
   "cell_type": "code",
   "execution_count": 25,
   "id": "a5aac941-e882-431b-a597-431d17125bc8",
   "metadata": {},
   "outputs": [
    {
     "data": {
      "text/html": [
       "<div>\n",
       "<style scoped>\n",
       "    .dataframe tbody tr th:only-of-type {\n",
       "        vertical-align: middle;\n",
       "    }\n",
       "\n",
       "    .dataframe tbody tr th {\n",
       "        vertical-align: top;\n",
       "    }\n",
       "\n",
       "    .dataframe thead th {\n",
       "        text-align: right;\n",
       "    }\n",
       "</style>\n",
       "<table border=\"1\" class=\"dataframe\">\n",
       "  <thead>\n",
       "    <tr style=\"text-align: right;\">\n",
       "      <th></th>\n",
       "      <th>satisfaction_level</th>\n",
       "      <th>last_evaluation</th>\n",
       "      <th>number_project</th>\n",
       "      <th>average_monthly_hours</th>\n",
       "      <th>company_tenure</th>\n",
       "      <th>work_accident</th>\n",
       "      <th>left</th>\n",
       "      <th>promotion_last_5years</th>\n",
       "    </tr>\n",
       "  </thead>\n",
       "  <tbody>\n",
       "    <tr>\n",
       "      <th>count</th>\n",
       "      <td>14999.000000</td>\n",
       "      <td>14999.000000</td>\n",
       "      <td>14999.000000</td>\n",
       "      <td>14999.000000</td>\n",
       "      <td>14999.000000</td>\n",
       "      <td>14999.000000</td>\n",
       "      <td>14999.000000</td>\n",
       "      <td>14999.000000</td>\n",
       "    </tr>\n",
       "    <tr>\n",
       "      <th>mean</th>\n",
       "      <td>0.612834</td>\n",
       "      <td>0.716102</td>\n",
       "      <td>3.803054</td>\n",
       "      <td>201.050337</td>\n",
       "      <td>3.498233</td>\n",
       "      <td>0.144610</td>\n",
       "      <td>0.238083</td>\n",
       "      <td>0.021268</td>\n",
       "    </tr>\n",
       "    <tr>\n",
       "      <th>std</th>\n",
       "      <td>0.248631</td>\n",
       "      <td>0.171169</td>\n",
       "      <td>1.232592</td>\n",
       "      <td>49.943099</td>\n",
       "      <td>1.460136</td>\n",
       "      <td>0.351719</td>\n",
       "      <td>0.425924</td>\n",
       "      <td>0.144281</td>\n",
       "    </tr>\n",
       "    <tr>\n",
       "      <th>min</th>\n",
       "      <td>0.090000</td>\n",
       "      <td>0.360000</td>\n",
       "      <td>2.000000</td>\n",
       "      <td>96.000000</td>\n",
       "      <td>2.000000</td>\n",
       "      <td>0.000000</td>\n",
       "      <td>0.000000</td>\n",
       "      <td>0.000000</td>\n",
       "    </tr>\n",
       "    <tr>\n",
       "      <th>25%</th>\n",
       "      <td>0.440000</td>\n",
       "      <td>0.560000</td>\n",
       "      <td>3.000000</td>\n",
       "      <td>156.000000</td>\n",
       "      <td>3.000000</td>\n",
       "      <td>0.000000</td>\n",
       "      <td>0.000000</td>\n",
       "      <td>0.000000</td>\n",
       "    </tr>\n",
       "    <tr>\n",
       "      <th>50%</th>\n",
       "      <td>0.640000</td>\n",
       "      <td>0.720000</td>\n",
       "      <td>4.000000</td>\n",
       "      <td>200.000000</td>\n",
       "      <td>3.000000</td>\n",
       "      <td>0.000000</td>\n",
       "      <td>0.000000</td>\n",
       "      <td>0.000000</td>\n",
       "    </tr>\n",
       "    <tr>\n",
       "      <th>75%</th>\n",
       "      <td>0.820000</td>\n",
       "      <td>0.870000</td>\n",
       "      <td>5.000000</td>\n",
       "      <td>245.000000</td>\n",
       "      <td>4.000000</td>\n",
       "      <td>0.000000</td>\n",
       "      <td>0.000000</td>\n",
       "      <td>0.000000</td>\n",
       "    </tr>\n",
       "    <tr>\n",
       "      <th>max</th>\n",
       "      <td>1.000000</td>\n",
       "      <td>1.000000</td>\n",
       "      <td>7.000000</td>\n",
       "      <td>310.000000</td>\n",
       "      <td>10.000000</td>\n",
       "      <td>1.000000</td>\n",
       "      <td>1.000000</td>\n",
       "      <td>1.000000</td>\n",
       "    </tr>\n",
       "  </tbody>\n",
       "</table>\n",
       "</div>"
      ],
      "text/plain": [
       "       satisfaction_level  last_evaluation  number_project  \\\n",
       "count        14999.000000     14999.000000    14999.000000   \n",
       "mean             0.612834         0.716102        3.803054   \n",
       "std              0.248631         0.171169        1.232592   \n",
       "min              0.090000         0.360000        2.000000   \n",
       "25%              0.440000         0.560000        3.000000   \n",
       "50%              0.640000         0.720000        4.000000   \n",
       "75%              0.820000         0.870000        5.000000   \n",
       "max              1.000000         1.000000        7.000000   \n",
       "\n",
       "       average_monthly_hours  company_tenure  work_accident          left  \\\n",
       "count           14999.000000    14999.000000   14999.000000  14999.000000   \n",
       "mean              201.050337        3.498233       0.144610      0.238083   \n",
       "std                49.943099        1.460136       0.351719      0.425924   \n",
       "min                96.000000        2.000000       0.000000      0.000000   \n",
       "25%               156.000000        3.000000       0.000000      0.000000   \n",
       "50%               200.000000        3.000000       0.000000      0.000000   \n",
       "75%               245.000000        4.000000       0.000000      0.000000   \n",
       "max               310.000000       10.000000       1.000000      1.000000   \n",
       "\n",
       "       promotion_last_5years  \n",
       "count           14999.000000  \n",
       "mean                0.021268  \n",
       "std                 0.144281  \n",
       "min                 0.000000  \n",
       "25%                 0.000000  \n",
       "50%                 0.000000  \n",
       "75%                 0.000000  \n",
       "max                 1.000000  "
      ]
     },
     "execution_count": 25,
     "metadata": {},
     "output_type": "execute_result"
    }
   ],
   "source": [
    "data.describe()"
   ]
  },
  {
   "cell_type": "markdown",
   "id": "1f51b9b6-dd17-427d-b9ae-383b580dbf31",
   "metadata": {},
   "source": [
    "<br>\n",
    "\n",
    "**Inspect** unique departments and salary types"
   ]
  },
  {
   "cell_type": "code",
   "execution_count": 26,
   "id": "edf15f3e-ce6c-4f13-942c-c50921aa8850",
   "metadata": {},
   "outputs": [
    {
     "data": {
      "text/plain": [
       "array(['sales', 'accounting', 'hr', 'technical', 'support', 'management',\n",
       "       'IT', 'product_mng', 'marketing', 'RandD'], dtype=object)"
      ]
     },
     "execution_count": 26,
     "metadata": {},
     "output_type": "execute_result"
    }
   ],
   "source": [
    "data['department'].unique()"
   ]
  },
  {
   "cell_type": "code",
   "execution_count": 27,
   "id": "55704f08-39a4-4b20-a0bd-4174909838aa",
   "metadata": {},
   "outputs": [
    {
     "data": {
      "text/plain": [
       "array(['low', 'medium', 'high'], dtype=object)"
      ]
     },
     "execution_count": 27,
     "metadata": {},
     "output_type": "execute_result"
    }
   ],
   "source": [
    "data['salary'].unique()"
   ]
  },
  {
   "cell_type": "markdown",
   "id": "a0dd5079-24d2-491e-b7a0-7aed72b80c07",
   "metadata": {},
   "source": [
    "<br>\n",
    "\n",
    "## **4️⃣ Data Cleaning**\n",
    "**Ensure** data quality by addressing missing values, duplicates, and outliers.\n",
    "\n",
    "#### **Check for and Handle Missing Values** \n"
   ]
  },
  {
   "cell_type": "code",
   "execution_count": 28,
   "id": "851bb1d1-7f0f-4e66-a647-7946b3ae2f08",
   "metadata": {},
   "outputs": [
    {
     "data": {
      "text/plain": [
       "satisfaction_level       0\n",
       "last_evaluation          0\n",
       "number_project           0\n",
       "average_monthly_hours    0\n",
       "company_tenure           0\n",
       "work_accident            0\n",
       "left                     0\n",
       "promotion_last_5years    0\n",
       "department               0\n",
       "salary                   0\n",
       "dtype: int64"
      ]
     },
     "execution_count": 28,
     "metadata": {},
     "output_type": "execute_result"
    }
   ],
   "source": [
    "# Check for missing values\n",
    "data.isnull().sum()"
   ]
  },
  {
   "cell_type": "markdown",
   "id": "914a8162-c9fb-4613-866c-3561aee66279",
   "metadata": {},
   "source": [
    "***Note:*** There are no missing values\n",
    "\n",
    "<br>\n",
    "\n",
    "#### **Check for and Handle Duplicates**"
   ]
  },
  {
   "cell_type": "code",
   "execution_count": 29,
   "id": "24e76733-2cac-4568-96c9-7bccc9f4d6e4",
   "metadata": {},
   "outputs": [
    {
     "data": {
      "text/plain": [
       "np.int64(3008)"
      ]
     },
     "execution_count": 29,
     "metadata": {},
     "output_type": "execute_result"
    }
   ],
   "source": [
    "# Check for duplicates\n",
    "data.duplicated().sum()"
   ]
  },
  {
   "cell_type": "markdown",
   "id": "1952ba7b-08c3-439e-811d-3d23806acce7",
   "metadata": {},
   "source": [
    "***Note:*** **3,008** duplicate rows have been identified. Further inspection will be conducted to determine their nature and assess the appropriate course of action.\n",
    "\n",
    "<br>"
   ]
  },
  {
   "cell_type": "code",
   "execution_count": 30,
   "id": "fa28b123-1643-4627-95fc-df389d27dcc6",
   "metadata": {},
   "outputs": [
    {
     "name": "stdout",
     "output_type": "stream",
     "text": [
      "Total duplicate rows: 3008\n",
      "Unique Duplicated Records: 2338\n",
      "\n"
     ]
    },
    {
     "data": {
      "text/html": [
       "<div>\n",
       "<style scoped>\n",
       "    .dataframe tbody tr th:only-of-type {\n",
       "        vertical-align: middle;\n",
       "    }\n",
       "\n",
       "    .dataframe tbody tr th {\n",
       "        vertical-align: top;\n",
       "    }\n",
       "\n",
       "    .dataframe thead th {\n",
       "        text-align: right;\n",
       "    }\n",
       "</style>\n",
       "<table border=\"1\" class=\"dataframe\">\n",
       "  <thead>\n",
       "    <tr style=\"text-align: right;\">\n",
       "      <th></th>\n",
       "      <th>satisfaction_level</th>\n",
       "      <th>last_evaluation</th>\n",
       "      <th>number_project</th>\n",
       "      <th>average_monthly_hours</th>\n",
       "      <th>company_tenure</th>\n",
       "      <th>work_accident</th>\n",
       "      <th>left</th>\n",
       "      <th>promotion_last_5years</th>\n",
       "      <th>department</th>\n",
       "      <th>salary</th>\n",
       "    </tr>\n",
       "  </thead>\n",
       "  <tbody>\n",
       "    <tr>\n",
       "      <th>30</th>\n",
       "      <td>0.09</td>\n",
       "      <td>0.62</td>\n",
       "      <td>6</td>\n",
       "      <td>294</td>\n",
       "      <td>4</td>\n",
       "      <td>0</td>\n",
       "      <td>1</td>\n",
       "      <td>0</td>\n",
       "      <td>accounting</td>\n",
       "      <td>low</td>\n",
       "    </tr>\n",
       "    <tr>\n",
       "      <th>12030</th>\n",
       "      <td>0.09</td>\n",
       "      <td>0.62</td>\n",
       "      <td>6</td>\n",
       "      <td>294</td>\n",
       "      <td>4</td>\n",
       "      <td>0</td>\n",
       "      <td>1</td>\n",
       "      <td>0</td>\n",
       "      <td>accounting</td>\n",
       "      <td>low</td>\n",
       "    </tr>\n",
       "    <tr>\n",
       "      <th>14241</th>\n",
       "      <td>0.09</td>\n",
       "      <td>0.62</td>\n",
       "      <td>6</td>\n",
       "      <td>294</td>\n",
       "      <td>4</td>\n",
       "      <td>0</td>\n",
       "      <td>1</td>\n",
       "      <td>0</td>\n",
       "      <td>accounting</td>\n",
       "      <td>low</td>\n",
       "    </tr>\n",
       "    <tr>\n",
       "      <th>71</th>\n",
       "      <td>0.09</td>\n",
       "      <td>0.77</td>\n",
       "      <td>5</td>\n",
       "      <td>275</td>\n",
       "      <td>4</td>\n",
       "      <td>0</td>\n",
       "      <td>1</td>\n",
       "      <td>0</td>\n",
       "      <td>product_mng</td>\n",
       "      <td>medium</td>\n",
       "    </tr>\n",
       "    <tr>\n",
       "      <th>12071</th>\n",
       "      <td>0.09</td>\n",
       "      <td>0.77</td>\n",
       "      <td>5</td>\n",
       "      <td>275</td>\n",
       "      <td>4</td>\n",
       "      <td>0</td>\n",
       "      <td>1</td>\n",
       "      <td>0</td>\n",
       "      <td>product_mng</td>\n",
       "      <td>medium</td>\n",
       "    </tr>\n",
       "  </tbody>\n",
       "</table>\n",
       "</div>"
      ],
      "text/plain": [
       "       satisfaction_level  last_evaluation  number_project  \\\n",
       "30                   0.09             0.62               6   \n",
       "12030                0.09             0.62               6   \n",
       "14241                0.09             0.62               6   \n",
       "71                   0.09             0.77               5   \n",
       "12071                0.09             0.77               5   \n",
       "\n",
       "       average_monthly_hours  company_tenure  work_accident  left  \\\n",
       "30                       294               4              0     1   \n",
       "12030                    294               4              0     1   \n",
       "14241                    294               4              0     1   \n",
       "71                       275               4              0     1   \n",
       "12071                    275               4              0     1   \n",
       "\n",
       "       promotion_last_5years   department  salary  \n",
       "30                         0   accounting     low  \n",
       "12030                      0   accounting     low  \n",
       "14241                      0   accounting     low  \n",
       "71                         0  product_mng  medium  \n",
       "12071                      0  product_mng  medium  "
      ]
     },
     "execution_count": 30,
     "metadata": {},
     "output_type": "execute_result"
    }
   ],
   "source": [
    "# Inspect duplicates further\n",
    "duplicate_count = data.duplicated().sum()\n",
    "print(f\"Total duplicate rows: {duplicate_count}\")\n",
    "\n",
    "duplicates = data[data.duplicated(keep=False)]\n",
    "duplicates_sorted = duplicates.sort_values(by=duplicates.columns.tolist())\n",
    "print(f\"Unique Duplicated Records: {data.loc[data.duplicated(), :].drop_duplicates().shape[0]}\\n\")\n",
    "\n",
    "duplicates_sorted.head(5)"
   ]
  },
  {
   "cell_type": "markdown",
   "id": "47db348b-a601-4ff0-934b-bf85dae038d9",
   "metadata": {},
   "source": [
    "***Notes:*** \n",
    "* There are **3,008** duplicate entries however, these duplicates originate from **2,338** unique records, indicating that some rows are repeated multiple times.\n",
    "\n",
    "* Given the presence of multiple continuous variables across 10 columns, the likelihood of two employees providing identical responses is low, making it reasonable to remove these duplicates."
   ]
  },
  {
   "cell_type": "code",
   "execution_count": 31,
   "id": "5e38cb38-ce58-4c06-a7dd-a460269005c7",
   "metadata": {},
   "outputs": [
    {
     "name": "stdout",
     "output_type": "stream",
     "text": [
      "Remaining Rows: 11991\n",
      "Duplicate Rows: 0\n",
      "Data Removed: 20.05%\n"
     ]
    }
   ],
   "source": [
    "# Drop duplicates\n",
    "data_cleaned = data.drop_duplicates(keep='first')\n",
    "\n",
    "# Confirm changes\n",
    "print(f\"Remaining Rows: {data_cleaned.shape[0]}\")\n",
    "print(f\"Duplicate Rows: {data_cleaned.duplicated().sum()}\")\n",
    "print(f\"Data Removed: {((data.shape[0] - data_cleaned.shape[0]) / data.shape[0]) * 100:.2f}%\")"
   ]
  },
  {
   "cell_type": "markdown",
   "id": "c1ec0925-6593-4b88-a9ae-1ef78acb706b",
   "metadata": {},
   "source": [
    "***Note:*** All duplicates have been removed resulting in a **20.05%** loss in data.\n",
    "\n",
    "<br>\n",
    "\n",
    "#### **Check for and Handle Outliers**"
   ]
  },
  {
   "cell_type": "code",
   "execution_count": 33,
   "id": "34e6de80-7e2f-479d-b93d-f2c18bd263cc",
   "metadata": {},
   "outputs": [
    {
     "data": {
      "text/html": [
       "<div>\n",
       "<style scoped>\n",
       "    .dataframe tbody tr th:only-of-type {\n",
       "        vertical-align: middle;\n",
       "    }\n",
       "\n",
       "    .dataframe tbody tr th {\n",
       "        vertical-align: top;\n",
       "    }\n",
       "\n",
       "    .dataframe thead th {\n",
       "        text-align: right;\n",
       "    }\n",
       "</style>\n",
       "<table border=\"1\" class=\"dataframe\">\n",
       "  <thead>\n",
       "    <tr style=\"text-align: right;\">\n",
       "      <th></th>\n",
       "      <th>Column</th>\n",
       "      <th>Number of Outliers</th>\n",
       "      <th>Proportion</th>\n",
       "    </tr>\n",
       "  </thead>\n",
       "  <tbody>\n",
       "    <tr>\n",
       "      <th>0</th>\n",
       "      <td>satisfaction_level</td>\n",
       "      <td>0</td>\n",
       "      <td>0.00%</td>\n",
       "    </tr>\n",
       "    <tr>\n",
       "      <th>1</th>\n",
       "      <td>last_evaluation</td>\n",
       "      <td>0</td>\n",
       "      <td>0.00%</td>\n",
       "    </tr>\n",
       "    <tr>\n",
       "      <th>2</th>\n",
       "      <td>number_project</td>\n",
       "      <td>0</td>\n",
       "      <td>0.00%</td>\n",
       "    </tr>\n",
       "    <tr>\n",
       "      <th>3</th>\n",
       "      <td>average_monthly_hours</td>\n",
       "      <td>0</td>\n",
       "      <td>0.00%</td>\n",
       "    </tr>\n",
       "    <tr>\n",
       "      <th>4</th>\n",
       "      <td>company_tenure</td>\n",
       "      <td>824</td>\n",
       "      <td>6.87%</td>\n",
       "    </tr>\n",
       "  </tbody>\n",
       "</table>\n",
       "</div>"
      ],
      "text/plain": [
       "                  Column  Number of Outliers Proportion\n",
       "0     satisfaction_level                   0      0.00%\n",
       "1        last_evaluation                   0      0.00%\n",
       "2         number_project                   0      0.00%\n",
       "3  average_monthly_hours                   0      0.00%\n",
       "4         company_tenure                 824      6.87%"
      ]
     },
     "execution_count": 33,
     "metadata": {},
     "output_type": "execute_result"
    }
   ],
   "source": [
    "# Using a loop to identify outliers and determine the proportion\n",
    "column_list = ['satisfaction_level',\n",
    "              'last_evaluation',\n",
    "              'number_project',\n",
    "              'average_monthly_hours',\n",
    "              'company_tenure'\n",
    "              ]\n",
    "\n",
    "results = []\n",
    "\n",
    "for column in column_list:\n",
    "    q1 = data_cleaned[column].quantile(0.25)\n",
    "    q3 = data_cleaned[column].quantile(0.75)\n",
    "    iqr = q3 - q1\n",
    "      \n",
    "    # Standard threshold using Q3 + 1.5*IQR\n",
    "    standard_threshold = q3 + 1.5 * iqr\n",
    "    standard_outliers = (data_cleaned[column] > standard_threshold).sum()\n",
    "    proportion = (standard_outliers / len(data_cleaned)) * 100\n",
    "    \n",
    "    results.append([\n",
    "        column, \n",
    "        standard_outliers, \n",
    "        f\"{proportion:.2f}%\"\n",
    "    ])\n",
    "\n",
    "# Create a DataFrame to display the results\n",
    "outlier_df = pd.DataFrame(results, columns=[\n",
    "    'Column', \n",
    "    'Number of Outliers', \n",
    "    'Proportion'\n",
    "])\n",
    "\n",
    "outlier_df"
   ]
  },
  {
   "cell_type": "markdown",
   "id": "f8543809-61e0-49db-a19f-0358d0f42c49",
   "metadata": {},
   "source": [
    "***Note:*** There are two columns containing outliers - `'company_tenure'` and `'promotion_last_5years'`.  I will inspect further using boxplots and histograms.\n",
    "\n",
    "<br>"
   ]
  },
  {
   "cell_type": "code",
   "execution_count": 34,
   "id": "89d2bb0d-6451-4c4e-b217-b8cff37d16d5",
   "metadata": {},
   "outputs": [
    {
     "data": {
      "image/png": "[encoded data removed]",
      "text/plain": [
       "<Figure size 1200x400 with 2 Axes>"
      ]
     },
     "metadata": {},
     "output_type": "display_data"
    }
   ],
   "source": [
    "# Create a figure with two subplots side by side\n",
    "fig, axes = plt.subplots(1, 2, figsize=(12, 4))\n",
    "\n",
    "# Boxplot for 'company_tenure' on the first subplot\n",
    "sns.boxplot(\n",
    "    x=data_cleaned['company_tenure'],\n",
    "    ax=axes[0],\n",
    "    medianprops={'color': 'red', 'linewidth': 2}  # Highlighting median in red\n",
    ")\n",
    "axes[0].set_title('Boxplot: Company Tenure')\n",
    "\n",
    "# Histogram for 'fare' on the second subplot\n",
    "sns.histplot(data_cleaned['company_tenure'], bins=range(0, 12, 1), ax=axes[1])\n",
    "axes[1].set_title('Histogram: Company Tenure');"
   ]
  },
  {
   "cell_type": "markdown",
   "id": "23aad1af-95cb-451a-b619-03dbf70d6ea2",
   "metadata": {},
   "source": [
    "🔍 ***Key Insights:***  \n",
    "\n",
    "**Boxplot**  \n",
    "* The most frequent tenure is around **3-4 years**.\n",
    "* A small percentage **(6.87%)** of employees have a tenure exceeding **5 years**, indicating that a subset of employees remain with the company significantly longer than the majority.\n",
    "* The median (center line inside the box) appears to be at **3 years**, showing the central tendency.\n",
    "\n",
    "**Histogram**  \n",
    "* The histogram confirms that most employees have a tenure of **3 years**, as seen from the peak in this range.\n",
    "* The frequency drops sharply beyond **3 years**, supporting the boxplot’s indication of outliers.\n",
    "* The presence of a long tail on the right (i.e., some employees have tenure up to **10 years**) suggests that while most employees leave within a few years, a few stay much longer.\n",
    "\n",
    "***Note:*** Some models like logistic regression are more sensitive to outliers, while tree-basd models are more robst to ouliers. When building our models, I will consider whether removing outliers is necessary based on the model type chosen."
   ]
  },
  {
   "cell_type": "markdown",
   "id": "9336fac3-7394-4cca-ac05-f4bbef3053aa",
   "metadata": {},
   "source": [
    "<br>\n",
    "\n",
    "## **5️⃣ Feature Engineering**\n",
    "\n",
    "Since this dataset relates to employee attrition, I will explore feature engineering techniques that enhance predictive power and capture meaningful relationships between variables. In this notebook, I will only perform categorical encoding, as it is a necessary preprocessing step for all models. The creation of interaction features and feature scaling will be conducted in their respective modeling notebooks to ensure flexibility and prevent unnecessary transformations for models that do not require them.\n",
    "\n",
    "1. **Categorical Encoding (Performed in This Notebook)**  \n",
    "* One-Hot Encode `'department'` → Since it's nominal, converting it into binary columns ensures models don't assume an order.\n",
    "* Label Encode `'salary'` → It's ordinal (low < medium < high), so label encoding preserves the ranking.  \n",
    "\n",
    "2. **Creating Interaction Features (Performed in Modeling Notebooks)**  \n",
    "These features capture relationships between existing variables, which may improve prediction accuracy.\n",
    "\n",
    "* **Workload Indicator:**  \n",
    "    * Create a feature that combines `'number_project'` and `'average_monthly_hours'` to quantify workload intensity.\n",
    "    * ***Formula:*** `'workload_intensity'` = number_project * average_monthly_hours  \n",
    "* **Tenure & Promotion Interaction:**  \n",
    "    * If someone has been at the company a long time but hasn't been promoted (`'promotion_last_5years'` = 0), that could indicate dissatisfaction.\n",
    "    * ***Formula:*** `'long_tenure_no_promotion'` = (`'company_tenure'` > X) & (`'promotion_last_5years'` == 0)  \n",
    "* **Recent Performance & Workload Balance:**  \n",
    "    * This assesses how well employees perform given their workload.\n",
    "    * ***Formula:*** `'efficiency_score'` = `'last_evaluation'` / `'average_monthly_hours'`\n",
    "\n",
    "3. **Feature Scaling (for Logistic Regression, Performed in Modeling Notebooks)**  \n",
    "* Standardize features to ensure numerical stability.\n",
    "* StandardScaler (or MinMaxScaler) is quick and helps with model convergence.\n",
    "* Tree-based models (Decision Tree, Random Forest) don’t need scaling."
   ]
  },
  {
   "cell_type": "markdown",
   "id": "1f6c8d07-db34-4281-b524-e82abe518b30",
   "metadata": {},
   "source": [
    "<br>\n",
    "\n",
    "**Encode** categorical variables."
   ]
  },
  {
   "cell_type": "code",
   "execution_count": 35,
   "id": "3dc62778-73ae-453f-8e14-e99e1bd97a48",
   "metadata": {},
   "outputs": [
    {
     "data": {
      "text/plain": [
       "department    object\n",
       "salary        object\n",
       "dtype: object"
      ]
     },
     "execution_count": 35,
     "metadata": {},
     "output_type": "execute_result"
    }
   ],
   "source": [
    "# reassess data types of each column\n",
    "data_cleaned[['department', 'salary']].dtypes"
   ]
  },
  {
   "cell_type": "code",
   "execution_count": 36,
   "id": "411e5ca2-67b9-4924-9435-d093a2715770",
   "metadata": {},
   "outputs": [
    {
     "data": {
      "text/html": [
       "<div>\n",
       "<style scoped>\n",
       "    .dataframe tbody tr th:only-of-type {\n",
       "        vertical-align: middle;\n",
       "    }\n",
       "\n",
       "    .dataframe tbody tr th {\n",
       "        vertical-align: top;\n",
       "    }\n",
       "\n",
       "    .dataframe thead th {\n",
       "        text-align: right;\n",
       "    }\n",
       "</style>\n",
       "<table border=\"1\" class=\"dataframe\">\n",
       "  <thead>\n",
       "    <tr style=\"text-align: right;\">\n",
       "      <th></th>\n",
       "      <th>satisfaction_level</th>\n",
       "      <th>last_evaluation</th>\n",
       "      <th>number_project</th>\n",
       "      <th>average_monthly_hours</th>\n",
       "      <th>company_tenure</th>\n",
       "      <th>work_accident</th>\n",
       "      <th>left</th>\n",
       "      <th>promotion_last_5years</th>\n",
       "      <th>salary</th>\n",
       "      <th>department_RandD</th>\n",
       "      <th>department_accounting</th>\n",
       "      <th>department_hr</th>\n",
       "      <th>department_management</th>\n",
       "      <th>department_marketing</th>\n",
       "      <th>department_product_mng</th>\n",
       "      <th>department_sales</th>\n",
       "      <th>department_support</th>\n",
       "      <th>department_technical</th>\n",
       "    </tr>\n",
       "  </thead>\n",
       "  <tbody>\n",
       "    <tr>\n",
       "      <th>0</th>\n",
       "      <td>0.38</td>\n",
       "      <td>0.53</td>\n",
       "      <td>2</td>\n",
       "      <td>157</td>\n",
       "      <td>3</td>\n",
       "      <td>0</td>\n",
       "      <td>1</td>\n",
       "      <td>0</td>\n",
       "      <td>0</td>\n",
       "      <td>0</td>\n",
       "      <td>0</td>\n",
       "      <td>0</td>\n",
       "      <td>0</td>\n",
       "      <td>0</td>\n",
       "      <td>0</td>\n",
       "      <td>1</td>\n",
       "      <td>0</td>\n",
       "      <td>0</td>\n",
       "    </tr>\n",
       "    <tr>\n",
       "      <th>1</th>\n",
       "      <td>0.80</td>\n",
       "      <td>0.86</td>\n",
       "      <td>5</td>\n",
       "      <td>262</td>\n",
       "      <td>6</td>\n",
       "      <td>0</td>\n",
       "      <td>1</td>\n",
       "      <td>0</td>\n",
       "      <td>1</td>\n",
       "      <td>0</td>\n",
       "      <td>0</td>\n",
       "      <td>0</td>\n",
       "      <td>0</td>\n",
       "      <td>0</td>\n",
       "      <td>0</td>\n",
       "      <td>1</td>\n",
       "      <td>0</td>\n",
       "      <td>0</td>\n",
       "    </tr>\n",
       "    <tr>\n",
       "      <th>2</th>\n",
       "      <td>0.11</td>\n",
       "      <td>0.88</td>\n",
       "      <td>7</td>\n",
       "      <td>272</td>\n",
       "      <td>4</td>\n",
       "      <td>0</td>\n",
       "      <td>1</td>\n",
       "      <td>0</td>\n",
       "      <td>1</td>\n",
       "      <td>0</td>\n",
       "      <td>0</td>\n",
       "      <td>0</td>\n",
       "      <td>0</td>\n",
       "      <td>0</td>\n",
       "      <td>0</td>\n",
       "      <td>1</td>\n",
       "      <td>0</td>\n",
       "      <td>0</td>\n",
       "    </tr>\n",
       "    <tr>\n",
       "      <th>3</th>\n",
       "      <td>0.72</td>\n",
       "      <td>0.87</td>\n",
       "      <td>5</td>\n",
       "      <td>223</td>\n",
       "      <td>5</td>\n",
       "      <td>0</td>\n",
       "      <td>1</td>\n",
       "      <td>0</td>\n",
       "      <td>0</td>\n",
       "      <td>0</td>\n",
       "      <td>0</td>\n",
       "      <td>0</td>\n",
       "      <td>0</td>\n",
       "      <td>0</td>\n",
       "      <td>0</td>\n",
       "      <td>1</td>\n",
       "      <td>0</td>\n",
       "      <td>0</td>\n",
       "    </tr>\n",
       "    <tr>\n",
       "      <th>4</th>\n",
       "      <td>0.37</td>\n",
       "      <td>0.52</td>\n",
       "      <td>2</td>\n",
       "      <td>159</td>\n",
       "      <td>3</td>\n",
       "      <td>0</td>\n",
       "      <td>1</td>\n",
       "      <td>0</td>\n",
       "      <td>0</td>\n",
       "      <td>0</td>\n",
       "      <td>0</td>\n",
       "      <td>0</td>\n",
       "      <td>0</td>\n",
       "      <td>0</td>\n",
       "      <td>0</td>\n",
       "      <td>1</td>\n",
       "      <td>0</td>\n",
       "      <td>0</td>\n",
       "    </tr>\n",
       "  </tbody>\n",
       "</table>\n",
       "</div>"
      ],
      "text/plain": [
       "   satisfaction_level  last_evaluation  number_project  average_monthly_hours  \\\n",
       "0                0.38             0.53               2                    157   \n",
       "1                0.80             0.86               5                    262   \n",
       "2                0.11             0.88               7                    272   \n",
       "3                0.72             0.87               5                    223   \n",
       "4                0.37             0.52               2                    159   \n",
       "\n",
       "   company_tenure  work_accident  left  promotion_last_5years  salary  \\\n",
       "0               3              0     1                      0       0   \n",
       "1               6              0     1                      0       1   \n",
       "2               4              0     1                      0       1   \n",
       "3               5              0     1                      0       0   \n",
       "4               3              0     1                      0       0   \n",
       "\n",
       "   department_RandD  department_accounting  department_hr  \\\n",
       "0                 0                      0              0   \n",
       "1                 0                      0              0   \n",
       "2                 0                      0              0   \n",
       "3                 0                      0              0   \n",
       "4                 0                      0              0   \n",
       "\n",
       "   department_management  department_marketing  department_product_mng  \\\n",
       "0                      0                     0                       0   \n",
       "1                      0                     0                       0   \n",
       "2                      0                     0                       0   \n",
       "3                      0                     0                       0   \n",
       "4                      0                     0                       0   \n",
       "\n",
       "   department_sales  department_support  department_technical  \n",
       "0                 1                   0                     0  \n",
       "1                 1                   0                     0  \n",
       "2                 1                   0                     0  \n",
       "3                 1                   0                     0  \n",
       "4                 1                   0                     0  "
      ]
     },
     "execution_count": 36,
     "metadata": {},
     "output_type": "execute_result"
    }
   ],
   "source": [
    "# Copy the cleaned dataset\n",
    "data_encoded = data_cleaned.copy()\n",
    "\n",
    "# Encode the 'salary' column as an ordinal numeric category\n",
    "data_encoded['salary'] = (\n",
    "    data_encoded['salary']\n",
    "    .astype('category')\n",
    "    .cat.set_categories(['low', 'medium', 'high'])\n",
    "    .cat.codes\n",
    ")\n",
    "\n",
    "# One-Hot Encode 'department' column\n",
    "data_encoded = pd.get_dummies(data_encoded, \n",
    "                              columns=['department'], \n",
    "                              dtype=int, \n",
    "                              drop_first=True)\n",
    "\n",
    "# Check the data types to verify correctness\n",
    "data_encoded.head()"
   ]
  },
  {
   "cell_type": "markdown",
   "id": "5527d990-4774-4cae-baae-f597fa108d99",
   "metadata": {},
   "source": [
    "<br>\n",
    "\n",
    "## **6️⃣ Export Cleaned and Encoded Datasets**"
   ]
  },
  {
   "cell_type": "code",
   "execution_count": 39,
   "id": "6c296f00-eefe-4266-9983-6e711dadbf65",
   "metadata": {},
   "outputs": [
    {
     "name": "stdout",
     "output_type": "stream",
     "text": [
      "Datasets successfully exported as 'HR_capstone_dataset_cleaned.csv' and 'HR_capstone_dataset_modelling.csv'\n"
     ]
    }
   ],
   "source": [
    "# Export the encoded dataset\n",
    "data_cleaned.to_csv(\"HR_capstone_dataset_cleaned.csv\", index=False)\n",
    "data_encoded.to_csv(\"HR_capstone_dataset_modelling.csv\", index=False)\n",
    "\n",
    "print(\"Datasets successfully exported as 'HR_capstone_dataset_cleaned.csv' and 'HR_capstone_dataset_modelling.csv'\")"
   ]
  },
  {
   "cell_type": "code",
   "execution_count": null,
   "id": "f96953e5-c9aa-40b0-b366-7d780af66401",
   "metadata": {},
   "outputs": [],
   "source": []
  }
 ],
 "metadata": {
  "kernelspec": {
   "display_name": "Python 3 (ipykernel)",
   "language": "python",
   "name": "python3"
  },
  "language_info": {
   "codemirror_mode": {
    "name": "ipython",
    "version": 3
   },
   "file_extension": ".py",
   "mimetype": "text/x-python",
   "name": "python",
   "nbconvert_exporter": "python",
   "pygments_lexer": "ipython3",
   "version": "3.12.4"
  }
 },
 "nbformat": 4,
 "nbformat_minor": 5
}
